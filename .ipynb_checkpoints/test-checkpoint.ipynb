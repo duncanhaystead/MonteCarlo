{
 "cells": [
  {
   "cell_type": "code",
   "execution_count": 2,
   "metadata": {},
   "outputs": [],
   "source": [
    "from montecarlo import *\n",
    "from mcintegration import *\n",
    "\n",
    "%matplotlib inline\n",
    "import numpy as np\n",
    "import math\n",
    "from math import pi\n",
    "from math import e\n",
    "import scipy.stats as st\n",
    "import matplotlib.pyplot as plt\n",
    "from numpy import linalg as LA\n",
    "\n",
    "plt.style.use('seaborn') # pretty matplotlib plots\n",
    "plt.rcParams['figure.figsize'] = (12, 8)"
   ]
  },
  {
   "cell_type": "code",
   "execution_count": 3,
   "metadata": {},
   "outputs": [
    {
     "data": {
      "text/plain": [
       "1.0"
      ]
     },
     "execution_count": 3,
     "metadata": {},
     "output_type": "execute_result"
    }
   ],
   "source": [
    "def s1(x,y):\n",
    "    return x**2 + y**2\n",
    "def s1_flip(x,y):\n",
    "    return abs(x*y)\n",
    "alpha = 2\n",
    "def f(x):\n",
    "    return x**2\n",
    "def g(x):\n",
    "    return e**(2*abs(x))\n",
    "def h(x):\n",
    "    return np.e**abs(x)\n",
    "def normal(x, mu=0, sigma=1):\n",
    "    return 1/(sigma*np.sqrt(2*pi))*e**(-.5*(x - mu**2)/sigma)\n",
    "def k(x, y, z):\n",
    "    return x*y*z/2\n",
    "def j(x, y, z):\n",
    "    return x + y + z\n",
    "def ran(x,y,z,r=2):\n",
    "    return (r**2)*np.random.rand()\n",
    "def sphere(x, y, z, r = 2):\n",
    "    r0 = x**2+y**2+z**2\n",
    "    if r0 <= r**2:\n",
    "        return r0\n",
    "    return 0\n",
    "def idf(x, y, z):\n",
    "    return 1\n",
    "def r(x,y):\n",
    "    return e**(math.sin(x*y))\n",
    "def r_pdf(x,y):\n",
    "    return 4*x*y\n",
    "\n",
    "bound_a, bound_b = [-1,-1], [1,1]\n",
    "\n",
    "theta_a, theta_b = 0, 2*pi\n",
    "mean = np.arctan(1/alpha)\n",
    "sd = np.sqrt(1 - alpha/(np.sqrt(1 + alpha**2)))\n",
    "sa1 = [-1,-1,-1]\n",
    "sb1 = [1,1,1]\n",
    "sa2 = [-2,-2,-2]\n",
    "sb2 = [2,2,2]\n",
    "r(0, 1)\n"
   ]
  },
  {
   "cell_type": "code",
   "execution_count": 12,
   "metadata": {},
   "outputs": [
    {
     "ename": "KeyboardInterrupt",
     "evalue": "",
     "output_type": "error",
     "traceback": [
      "\u001b[0;31m---------------------------------------------------------------------------\u001b[0m",
      "\u001b[0;31mKeyboardInterrupt\u001b[0m                         Traceback (most recent call last)",
      "\u001b[0;32m<ipython-input-12-7b2f6162c877>\u001b[0m in \u001b[0;36m<module>\u001b[0;34m\u001b[0m\n\u001b[1;32m      1\u001b[0m \u001b[0mintegrator\u001b[0m \u001b[0;34m=\u001b[0m \u001b[0mMonteCarloIntegration\u001b[0m\u001b[0;34m(\u001b[0m\u001b[0mf\u001b[0m\u001b[0;34m,\u001b[0m \u001b[0ma\u001b[0m \u001b[0;34m=\u001b[0m \u001b[0;34m-\u001b[0m\u001b[0;36m2\u001b[0m\u001b[0;34m,\u001b[0m \u001b[0mb\u001b[0m \u001b[0;34m=\u001b[0m \u001b[0;36m2\u001b[0m\u001b[0;34m,\u001b[0m \u001b[0mn_distsamples\u001b[0m \u001b[0;34m=\u001b[0m \u001b[0;36m5000\u001b[0m\u001b[0;34m)\u001b[0m\u001b[0;34m\u001b[0m\u001b[0;34m\u001b[0m\u001b[0m\n\u001b[0;32m----> 2\u001b[0;31m \u001b[0mvalue\u001b[0m\u001b[0;34m,\u001b[0m \u001b[0merror\u001b[0m\u001b[0;34m,\u001b[0m \u001b[0mplot\u001b[0m \u001b[0;34m=\u001b[0m \u001b[0mintegrator\u001b[0m\u001b[0;34m.\u001b[0m\u001b[0mintegrate\u001b[0m\u001b[0;34m(\u001b[0m\u001b[0mg\u001b[0m\u001b[0;34m,\u001b[0m \u001b[0msample_method\u001b[0m \u001b[0;34m=\u001b[0m \u001b[0;34m'AcceptanceRejection'\u001b[0m\u001b[0;34m,\u001b[0m \u001b[0mnsamples\u001b[0m \u001b[0;34m=\u001b[0m \u001b[0;36m5000\u001b[0m\u001b[0;34m,\u001b[0m \u001b[0mburn_in\u001b[0m \u001b[0;34m=\u001b[0m \u001b[0;36m0\u001b[0m\u001b[0;34m)\u001b[0m\u001b[0;34m\u001b[0m\u001b[0;34m\u001b[0m\u001b[0m\n\u001b[0m\u001b[1;32m      3\u001b[0m \u001b[0mprint\u001b[0m\u001b[0;34m(\u001b[0m\u001b[0mvalue\u001b[0m\u001b[0;34m,\u001b[0m \u001b[0merror\u001b[0m\u001b[0;34m)\u001b[0m\u001b[0;34m\u001b[0m\u001b[0;34m\u001b[0m\u001b[0m\n",
      "\u001b[0;32m~/Desktop/coding/mcintegrate/mcintegration.py\u001b[0m in \u001b[0;36mintegrate\u001b[0;34m(self, proposal, nsamples, burn_in, sample_method, proposal_is_distribution, nsamples_proposal, normal_proposal, proposal_mu, proposal_sigma, diagnostics)\u001b[0m\n\u001b[1;32m     26\u001b[0m             normal = normal_proposal, mu = proposal_mu, sigma = proposal_sigma)\n\u001b[1;32m     27\u001b[0m         \u001b[0msampler\u001b[0m \u001b[0;34m=\u001b[0m \u001b[0mself\u001b[0m\u001b[0;34m.\u001b[0m\u001b[0mget_sampler\u001b[0m\u001b[0;34m(\u001b[0m\u001b[0msample_method\u001b[0m\u001b[0;34m)\u001b[0m\u001b[0;34m\u001b[0m\u001b[0;34m\u001b[0m\u001b[0m\n\u001b[0;32m---> 28\u001b[0;31m         \u001b[0msamples\u001b[0m \u001b[0;34m=\u001b[0m \u001b[0msampler\u001b[0m\u001b[0;34m(\u001b[0m\u001b[0mN\u001b[0m \u001b[0;34m=\u001b[0m \u001b[0mnsamples\u001b[0m \u001b[0;34m+\u001b[0m \u001b[0mburn_in\u001b[0m\u001b[0;34m)\u001b[0m\u001b[0;34m[\u001b[0m\u001b[0mburn_in\u001b[0m\u001b[0;34m:\u001b[0m\u001b[0;34m]\u001b[0m\u001b[0;34m\u001b[0m\u001b[0;34m\u001b[0m\u001b[0m\n\u001b[0m\u001b[1;32m     29\u001b[0m         \u001b[0mplot\u001b[0m \u001b[0;34m=\u001b[0m \u001b[0mplt\u001b[0m\u001b[0;34m.\u001b[0m\u001b[0mplot\u001b[0m\u001b[0;34m(\u001b[0m\u001b[0msamples\u001b[0m\u001b[0;34m)\u001b[0m\u001b[0;34m\u001b[0m\u001b[0;34m\u001b[0m\u001b[0m\n\u001b[1;32m     30\u001b[0m         \u001b[0;32mif\u001b[0m \u001b[0mself\u001b[0m\u001b[0;34m.\u001b[0m\u001b[0mndim\u001b[0m \u001b[0;34m>\u001b[0m \u001b[0;36m1\u001b[0m\u001b[0;34m:\u001b[0m\u001b[0;34m\u001b[0m\u001b[0;34m\u001b[0m\u001b[0m\n",
      "\u001b[0;32m~/Desktop/coding/mcintegrate/montecarlo.py\u001b[0m in \u001b[0;36mAcceptanceRejection\u001b[0;34m(self, p, q, N, C, nsamples_target)\u001b[0m\n\u001b[1;32m     43\u001b[0m                 \u001b[0mu\u001b[0m \u001b[0;34m=\u001b[0m \u001b[0mnp\u001b[0m\u001b[0;34m.\u001b[0m\u001b[0mrandom\u001b[0m\u001b[0;34m.\u001b[0m\u001b[0muniform\u001b[0m\u001b[0;34m(\u001b[0m\u001b[0;36m0\u001b[0m\u001b[0;34m,\u001b[0m\u001b[0;36m1\u001b[0m\u001b[0;34m)\u001b[0m\u001b[0;34m\u001b[0m\u001b[0;34m\u001b[0m\u001b[0m\n\u001b[1;32m     44\u001b[0m                 \u001b[0;32mtry\u001b[0m\u001b[0;34m:\u001b[0m\u001b[0;34m\u001b[0m\u001b[0;34m\u001b[0m\u001b[0m\n\u001b[0;32m---> 45\u001b[0;31m                     \u001b[0malpha\u001b[0m \u001b[0;34m=\u001b[0m \u001b[0mp\u001b[0m\u001b[0;34m.\u001b[0m\u001b[0mpdf\u001b[0m\u001b[0;34m(\u001b[0m\u001b[0mx\u001b[0m\u001b[0;34m)\u001b[0m\u001b[0;34m/\u001b[0m\u001b[0;34m(\u001b[0m\u001b[0mC\u001b[0m\u001b[0;34m*\u001b[0m\u001b[0mq\u001b[0m\u001b[0;34m.\u001b[0m\u001b[0mpdf\u001b[0m\u001b[0;34m(\u001b[0m\u001b[0mx\u001b[0m\u001b[0;34m)\u001b[0m\u001b[0;34m)\u001b[0m\u001b[0;34m\u001b[0m\u001b[0;34m\u001b[0m\u001b[0m\n\u001b[0m\u001b[1;32m     46\u001b[0m                 \u001b[0;32mexcept\u001b[0m \u001b[0mZeroDivisionError\u001b[0m\u001b[0;34m:\u001b[0m\u001b[0;34m\u001b[0m\u001b[0;34m\u001b[0m\u001b[0m\n\u001b[1;32m     47\u001b[0m                     \u001b[0malpha\u001b[0m \u001b[0;34m=\u001b[0m \u001b[0;36m0\u001b[0m\u001b[0;34m\u001b[0m\u001b[0;34m\u001b[0m\u001b[0m\n",
      "\u001b[0;32m~/Desktop/coding/mcintegrate/distributions.py\u001b[0m in \u001b[0;36mpdf\u001b[0;34m(self, x)\u001b[0m\n\u001b[1;32m     33\u001b[0m \u001b[0;34m\u001b[0m\u001b[0m\n\u001b[1;32m     34\u001b[0m     \u001b[0;32mdef\u001b[0m \u001b[0mpdf\u001b[0m\u001b[0;34m(\u001b[0m\u001b[0mself\u001b[0m\u001b[0;34m,\u001b[0m \u001b[0mx\u001b[0m\u001b[0;34m)\u001b[0m\u001b[0;34m:\u001b[0m\u001b[0;34m\u001b[0m\u001b[0;34m\u001b[0m\u001b[0m\n\u001b[0;32m---> 35\u001b[0;31m         \u001b[0mmeasure\u001b[0m \u001b[0;34m=\u001b[0m \u001b[0msum\u001b[0m\u001b[0;34m(\u001b[0m\u001b[0;34m[\u001b[0m\u001b[0;36m1\u001b[0m \u001b[0;32mif\u001b[0m \u001b[0my\u001b[0m \u001b[0;34m>=\u001b[0m \u001b[0mabs\u001b[0m\u001b[0;34m(\u001b[0m\u001b[0mx\u001b[0m\u001b[0;34m)\u001b[0m \u001b[0;32melse\u001b[0m \u001b[0;36m0\u001b[0m \u001b[0;32mfor\u001b[0m \u001b[0my\u001b[0m \u001b[0;32min\u001b[0m \u001b[0mself\u001b[0m\u001b[0;34m.\u001b[0m\u001b[0msamples\u001b[0m\u001b[0;34m]\u001b[0m\u001b[0;34m)\u001b[0m\u001b[0;34m\u001b[0m\u001b[0;34m\u001b[0m\u001b[0m\n\u001b[0m\u001b[1;32m     36\u001b[0m         \u001b[0;32mreturn\u001b[0m \u001b[0mmeasure\u001b[0m\u001b[0;34m/\u001b[0m\u001b[0mself\u001b[0m\u001b[0;34m.\u001b[0m\u001b[0mnsamples\u001b[0m\u001b[0;34m\u001b[0m\u001b[0;34m\u001b[0m\u001b[0m\n\u001b[1;32m     37\u001b[0m \u001b[0;34m\u001b[0m\u001b[0m\n",
      "\u001b[0;32m~/Desktop/coding/mcintegrate/distributions.py\u001b[0m in \u001b[0;36m<listcomp>\u001b[0;34m(.0)\u001b[0m\n\u001b[1;32m     33\u001b[0m \u001b[0;34m\u001b[0m\u001b[0m\n\u001b[1;32m     34\u001b[0m     \u001b[0;32mdef\u001b[0m \u001b[0mpdf\u001b[0m\u001b[0;34m(\u001b[0m\u001b[0mself\u001b[0m\u001b[0;34m,\u001b[0m \u001b[0mx\u001b[0m\u001b[0;34m)\u001b[0m\u001b[0;34m:\u001b[0m\u001b[0;34m\u001b[0m\u001b[0;34m\u001b[0m\u001b[0m\n\u001b[0;32m---> 35\u001b[0;31m         \u001b[0mmeasure\u001b[0m \u001b[0;34m=\u001b[0m \u001b[0msum\u001b[0m\u001b[0;34m(\u001b[0m\u001b[0;34m[\u001b[0m\u001b[0;36m1\u001b[0m \u001b[0;32mif\u001b[0m \u001b[0my\u001b[0m \u001b[0;34m>=\u001b[0m \u001b[0mabs\u001b[0m\u001b[0;34m(\u001b[0m\u001b[0mx\u001b[0m\u001b[0;34m)\u001b[0m \u001b[0;32melse\u001b[0m \u001b[0;36m0\u001b[0m \u001b[0;32mfor\u001b[0m \u001b[0my\u001b[0m \u001b[0;32min\u001b[0m \u001b[0mself\u001b[0m\u001b[0;34m.\u001b[0m\u001b[0msamples\u001b[0m\u001b[0;34m]\u001b[0m\u001b[0;34m)\u001b[0m\u001b[0;34m\u001b[0m\u001b[0;34m\u001b[0m\u001b[0m\n\u001b[0m\u001b[1;32m     36\u001b[0m         \u001b[0;32mreturn\u001b[0m \u001b[0mmeasure\u001b[0m\u001b[0;34m/\u001b[0m\u001b[0mself\u001b[0m\u001b[0;34m.\u001b[0m\u001b[0mnsamples\u001b[0m\u001b[0;34m\u001b[0m\u001b[0;34m\u001b[0m\u001b[0m\n\u001b[1;32m     37\u001b[0m \u001b[0;34m\u001b[0m\u001b[0m\n",
      "\u001b[0;31mKeyboardInterrupt\u001b[0m: "
     ]
    }
   ],
   "source": [
    "integrator = MonteCarloIntegration(f, a = -2, b = 2, n_distsamples = 5000)\n",
    "value, error, plot = integrator.integrate(g, sample_method = 'AcceptanceRejection', nsamples = 5000, burn_in = 0)\n",
    "print(value, error)"
   ]
  },
  {
   "cell_type": "code",
   "execution_count": 113,
   "metadata": {},
   "outputs": [
    {
     "name": "stdout",
     "output_type": "stream",
     "text": [
      "4.974082429693027 0.04071699228509338\n"
     ]
    },
    {
     "data": {
      "image/png": "[encoded data removed]",
      "text/plain": [
       "<Figure size 432x288 with 1 Axes>"
      ]
     },
     "metadata": {
      "needs_background": "light"
     },
     "output_type": "display_data"
    }
   ],
   "source": [
    "integrator = MonteCarloIntegration(sphere, a = sa1, b = sb1, n_distsamples = 5000, ndim =3)\n",
    "value, error, plot = integrator.integrate(j, sample_method = 'Metropolis', nsamples = 10000, burn_in = 5000)\n",
    "print(value, error)"
   ]
  },
  {
   "cell_type": "code",
   "execution_count": 6,
   "metadata": {},
   "outputs": [
    {
     "name": "stdout",
     "output_type": "stream",
     "text": [
      "16.996745754259948 0.05848193771023763\n"
     ]
    },
    {
     "data": {
      "image/png": "[encoded data removed]",
      "text/plain": [
       "<Figure size 432x288 with 1 Axes>"
      ]
     },
     "metadata": {
      "needs_background": "light"
     },
     "output_type": "display_data"
    }
   ],
   "source": [
    "integrator = MonteCarloIntegration(sphere, a = sa2, b = sb2, n_distsamples = 10000, ndim = 2)\n",
    "value, error, plot = integrator.integrate(s1, sample_method = 'MetropolisHastings', nsamples = 5000, \n",
    "                                          burn_in = 2000)\n",
    "print(value, error)"
   ]
  },
  {
   "cell_type": "code",
   "execution_count": 69,
   "metadata": {},
   "outputs": [
    {
     "name": "stdout",
     "output_type": "stream",
     "text": [
      "8.0465384955907 0.04132422680661997\n"
     ]
    },
    {
     "data": {
      "image/png": "[encoded data removed]",
      "text/plain": [
       "<Figure size 432x288 with 1 Axes>"
      ]
     },
     "metadata": {
      "needs_background": "light"
     },
     "output_type": "display_data"
    }
   ],
   "source": [
    "integrator = MonteCarloIntegration(sphere, a = sa1, b = sb1, n_distsamples = 1000, ndim = 3)\n",
    "value, error, plot = integrator.integrate(s1_flip, sample_method = 'Uniform', nsamples = 10000, \n",
    "                                          burn_in = 1000)\n",
    "print(value, error)"
   ]
  },
  {
   "cell_type": "code",
   "execution_count": null,
   "metadata": {},
   "outputs": [],
   "source": [
    "def Metropolis(proposal, target, mu = 0, sigma = 1, N = 1000, x0 = None):\n",
    "    if not x0:\n",
    "        x0 = q.rvs()\n",
    "    X = [x0]\n",
    "    while len(X) < N:\n",
    "        x = X[-1]\n",
    "        y = q.pdf(x) + q.rvs()\n",
    "        u = np.random.uniform(0,1)\n",
    "        try:\n",
    "            alpha = min(1,p.pdf(y)/p.pdf(x))\n",
    "        except ZeroDivisionError:\n",
    "            alpha = 0\n",
    "        if u <= alpha:\n",
    "            X.append(y)\n",
    "        else:\n",
    "            X.append(x)\n",
    "    return X\n",
    "\n",
    "def MetropolisHastings(proposal, target, mean = 0,std = 1, N = 1000, x0 = None):\n",
    "    if not x0:\n",
    "            x0 = q.rvs()\n",
    "    X = [x0]\n",
    "    while len(X) < N:\n",
    "        x = X[-1]\n",
    "        y = q.pdf(x) + q.rvs()\n",
    "        u = np.random.uniform(0,1)\n",
    "        try:\n",
    "            alpha = min(1,(p.pdf(y)*q.pdf(x-y))/(p.pdf(x)*p.pdf(y-x)))\n",
    "        except ZeroDivisionError:\n",
    "            alpha = 0\n",
    "        if u <= alpha:\n",
    "            X.append(y)\n",
    "        else:\n",
    "            X.append(x)\n",
    "    return X\n"
   ]
  },
  {
   "cell_type": "code",
   "execution_count": null,
   "metadata": {},
   "outputs": [],
   "source": [
    "def SampleMethod(method, *args, **kwargs):\n",
    "            return {\n",
    "            'Naive': 1,\n",
    "            'AcceptanceRejection':  2,\n",
    "            'Metropolis':  3,\n",
    "            'MetropolisHastings': 4\n",
    "            }.get(method, \"Method %s not implemented\" % method)\n",
    "\n",
    "SampleMethod('AcceptanceReject)"
   ]
  },
  {
   "cell_type": "code",
   "execution_count": null,
   "metadata": {},
   "outputs": [],
   "source": [
    "class p_gen(st.rv_continuous):\n",
    "    \"Generate a probability distribution for a given function\"\n",
    "    def _pdf(self, x):\n",
    "           return f(x)\n",
    "class q_gen(st.rv_continuous):\n",
    "    \"Generate a probability distribution for a given function\"\n",
    "    def _pdf(self, x):\n",
    "           return g(x)\n",
    "class dist():\n",
    "    def __init__(self, f, a, b, ndim = 1,mu=None, sigma=None, nsamples=1000):\n",
    "        self.f = f \n",
    "        self.mu = mu\n",
    "        self.sigma = sigma\n",
    "        self.a = a\n",
    "        self.b = a\n",
    "        self.nsamples = nsamples\n",
    "        self.ndim = ndim\n",
    "        \n",
    "    def sampler(self):\n",
    "        if self.ndim == 1:\n",
    "            return [self.f(c) for c in np.random.uniform(self.a, self.b,size = self.nsamples)]\n",
    "        return [self.f(c) for c in np.random.uniform(self.a, self.b,size = (self.nsamples, self.ndim))]\n",
    "        \n",
    "         \n",
    "        \n",
    "    def pdf(self, s):\n",
    "        samples = self.sampler()\n",
    "        if np.sign(s) > -1:\n",
    "            mu = len([y for y in samples if s >=  y >= 0])\n",
    "            return mu/self.nsamples\n",
    "        mu = len([y for y in samples if -s >= -y >= 0])\n",
    "        return mu/self.nsamples\n",
    "\n",
    "    def rvs(self, mu, sigma):\n",
    "        return self.mu + np.random.uniform(-1,1)*self.sigma\n",
    "    \n"
   ]
  },
  {
   "cell_type": "code",
   "execution_count": null,
   "metadata": {},
   "outputs": [],
   "source": [
    "bound_a, bound_b = -2, 2\n",
    "M = 1000\n",
    "X = np.random.uniform(bound_a, bound_b, size = (M, 2))\n",
    "samples = [f(x) for x in X]\n",
    "\n",
    "# print(X)\n",
    "mu, sigma = np.mean(samples), np.std(samples)\n",
    "p = dist(f, bound_a, bound_b, ndim=1)\n",
    "q = st.norm(loc = mu, scale = sigma)\n",
    "q.pdf(1)\n",
    "y = Metropolis(q, p, mu, sigma, M, 0)\n",
    "d = abs(LA.norm(bound_a + bound_b))\n",
    "print(4*sum([abs(x) for x in y])/M)"
   ]
  },
  {
   "cell_type": "code",
   "execution_count": null,
   "metadata": {},
   "outputs": [],
   "source": [
    "w = np.linspace(0, 4)\n",
    "plt.plot(p.sampler())"
   ]
  },
  {
   "cell_type": "code",
   "execution_count": null,
   "metadata": {},
   "outputs": [],
   "source": [
    "print(d)"
   ]
  },
  {
   "cell_type": "code",
   "execution_count": null,
   "metadata": {},
   "outputs": [],
   "source": [
    "a.pdf(3)"
   ]
  },
  {
   "cell_type": "code",
   "execution_count": null,
   "metadata": {},
   "outputs": [],
   "source": [
    "s1([3,3])\n",
    "p.pdf(8)"
   ]
  },
  {
   "cell_type": "code",
   "execution_count": null,
   "metadata": {},
   "outputs": [],
   "source": [
    "\n",
    "if [3]:\n",
    "    print('a')"
   ]
  },
  {
   "cell_type": "code",
   "execution_count": null,
   "metadata": {},
   "outputs": [],
   "source": []
  }
 ],
 "metadata": {
  "kernelspec": {
   "display_name": "Python 3",
   "language": "python",
   "name": "python3"
  },
  "language_info": {
   "codemirror_mode": {
    "name": "ipython",
    "version": 3
   },
   "file_extension": ".py",
   "mimetype": "text/x-python",
   "name": "python",
   "nbconvert_exporter": "python",
   "pygments_lexer": "ipython3",
   "version": "3.7.4"
  }
 },
 "nbformat": 4,
 "nbformat_minor": 2
}
